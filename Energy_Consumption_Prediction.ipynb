{
  "cells": [
    {
      "cell_type": "code",
      "execution_count": null,
      "metadata": {
        "id": "qNYMEOdmsOac"
      },
      "outputs": [],
      "source": [
        "import numpy as np\n",
        "import pandas as pd\n",
        "\n",
        "import matplotlib.pyplot as plt\n",
        "import seaborn as sns\n"
      ]
    },
    {
      "cell_type": "code",
      "execution_count": null,
      "metadata": {
        "colab": {
          "base_uri": "https://localhost:8080/",
          "height": 206
        },
        "id": "Q-M-x72pu8TH",
        "outputId": "cacecccf-a38a-47cd-9e8d-332af6bf8735"
      },
      "outputs": [],
      "source": [
        "training_data = pd.read_csv('https://raw.githubusercontent.com/rezanbt/iran-power-electricity-prediction/main/IranPowerConsum_Train.csv')\n",
        "\n",
        "training_data.shape\n",
        "training_data.head()"
      ]
    },
    {
      "cell_type": "code",
      "execution_count": null,
      "metadata": {
        "colab": {
          "base_uri": "https://localhost:8080/",
          "height": 206
        },
        "id": "Pm3EqSv_V0JB",
        "outputId": "42b3b7d2-ab84-4815-b7e1-200047121ead"
      },
      "outputs": [],
      "source": [
        "training_data = training_data.iloc[:, 1:2]\n",
        "\n",
        "training_data.shape\n",
        "training_data.head()"
      ]
    },
    {
      "cell_type": "code",
      "execution_count": null,
      "metadata": {
        "id": "z3OYbMhcwgqm"
      },
      "outputs": [],
      "source": [
        "# feature scaling\n",
        "\n",
        "from sklearn.preprocessing import MinMaxScaler\n",
        "\n",
        "mm = MinMaxScaler(feature_range = (0, 1))\n",
        "training_data = mm.fit_transform(training_data)\n"
      ]
    },
    {
      "cell_type": "code",
      "execution_count": null,
      "metadata": {
        "colab": {
          "base_uri": "https://localhost:8080/",
          "height": 54
        },
        "id": "i8re98-UxQ3y",
        "outputId": "88508262-57d8-4e36-9b54-a8255e05e927"
      },
      "outputs": [],
      "source": [
        "# Getting the inputs and outputs\n",
        "\n",
        "x_train = training_data[0:1257]\n",
        "y_train = training_data[1:1258]\n",
        "\n",
        "print(x_train.shape)\n",
        "print(y_train.shape)\n"
      ]
    },
    {
      "cell_type": "code",
      "execution_count": null,
      "metadata": {
        "colab": {
          "base_uri": "https://localhost:8080/",
          "height": 36
        },
        "id": "qTNdKPW8yFRc",
        "outputId": "8b71f3a4-5f23-49cb-fae2-1e34ebcea1a8"
      },
      "outputs": [],
      "source": [
        "# reshaping\n",
        "\n",
        "x_train = np.reshape(x_train, (1257, 1, 1))\n",
        "\n",
        "print(x_train.shape)"
      ]
    },
    {
      "cell_type": "code",
      "execution_count": null,
      "metadata": {
        "colab": {
          "base_uri": "https://localhost:8080/",
          "height": 36
        },
        "id": "6c47hPxrzRHh",
        "outputId": "422d4d31-80c9-48e9-f026-271853fdefeb"
      },
      "outputs": [],
      "source": [
        "# importing the keras libraries and packages\n",
        "\n",
        "import keras\n",
        "from keras.models import Sequential\n",
        "from keras.layers import Dense\n",
        "from keras.layers import LSTM\n"
      ]
    },
    {
      "cell_type": "markdown",
      "metadata": {},
      "source": [
        "Using Tensorflow backend"
      ]
    },
    {
      "cell_type": "code",
      "execution_count": null,
      "metadata": {
        "colab": {
          "base_uri": "https://localhost:8080/",
          "height": 7529
        },
        "id": "Cbe32yNBzuF_",
        "outputId": "04c24b03-7277-4a38-b11a-550012196f41"
      },
      "outputs": [],
      "source": [
        "# initializing the model\n",
        "model = Sequential()\n",
        "\n",
        "# adding the input layer and the LSTM layer\n",
        "model.add(LSTM(units = 4, activation = 'sigmoid', input_shape = (None, 1)))\n",
        "\n",
        "# adding the output layer\n",
        "model.add(Dense(units = 1))\n",
        "\n",
        "# compiling the model\n",
        "model.compile(optimizer = 'adam', loss = 'mean_squared_error')\n",
        "\n",
        "# fitting the RNN to the training data\n",
        "model.fit(x_train, y_train, batch_size = 32, epochs = 200)\n"
      ]
    },
    {
      "cell_type": "code",
      "execution_count": null,
      "metadata": {
        "colab": {
          "base_uri": "https://localhost:8080/",
          "height": 206
        },
        "id": "9N-6i3PXUvWU",
        "outputId": "800db33f-07a0-4767-a114-a273500ae21f"
      },
      "outputs": [],
      "source": [
        "# getting the real stock of 2017 i.e., importing the test dataset\n",
        "\n",
        "test_data = pd.read_csv('https://raw.githubusercontent.com/rezanbt/iran-power-electricity-prediction/main/IranPowerConsum_Test.csv')\n",
        "real_energy_consumption = test_data.iloc[:,1:2]\n",
        "real_energy_consumption.head()\n"
      ]
    },
    {
      "cell_type": "code",
      "execution_count": null,
      "metadata": {
        "id": "sYfYkJi4WBG2"
      },
      "outputs": [],
      "source": [
        "# getting the predicted stock price of 2017\n",
        "\n",
        "inputs = real_energy_consumption\n",
        "inputs = mm.transform(inputs)\n",
        "inputs = np.reshape(inputs, (20, 1, 1))\n",
        "\n",
        "\n",
        "predicted_energy_consumption= model.predict(inputs)\n",
        "predicted_energy_consumption= mm.inverse_transform(predicted_energy_consumption)\n"
      ]
    },
    {
      "cell_type": "code",
      "execution_count": null,
      "metadata": {
        "colab": {
          "base_uri": "https://localhost:8080/",
          "height": 376
        },
        "id": "pkA9SvUqXF4M",
        "outputId": "4ae4b823-bc7f-4eda-bd84-aba6f0e8adfb"
      },
      "outputs": [],
      "source": [
        "# visualizing the results\n",
        "\n",
        "plt.plot(real_energy_consumption, color = 'red', label = 'Real Iran Elec. Power Consumption')\n",
        "plt.plot(predicted_energy_consumption, color = 'blue', label = 'Predicted Iran Elec. Power Consumption')\n",
        "plt.title('Elec. Power Prediction')\n",
        "plt.xlabel('Time')\n",
        "plt.ylabel('Iran Elec. Power Consumption')\n",
        "plt.legend()\n",
        "plt.show()"
      ]
    },
    {
      "cell_type": "code",
      "execution_count": null,
      "metadata": {
        "colab": {
          "base_uri": "https://localhost:8080/",
          "height": 206
        },
        "id": "a_5uKG6UYpxB",
        "outputId": "ea411307-5363-4908-cf5a-62617368ada4"
      },
      "outputs": [],
      "source": [
        "# getting the real stock price of 2012 - 2016\n",
        "\n",
        "training_data = pd.read_csv('https://raw.githubusercontent.com/rezanbt/iran-power-electricity-prediction/main/IranPowerConsum_Train.csv')\n",
        "\n",
        "training_data.shape\n",
        "training_data.head()"
      ]
    },
    {
      "cell_type": "code",
      "execution_count": null,
      "metadata": {
        "colab": {
          "base_uri": "https://localhost:8080/",
          "height": 206
        },
        "id": "E7nPSVrHbQxM",
        "outputId": "72e39110-9a59-4196-f36f-54aa39867b95"
      },
      "outputs": [],
      "source": [
        "training_data = training_data.iloc[:, 1:2]\n",
        "\n",
        "training_data.shape\n",
        "training_data.head()"
      ]
    },
    {
      "cell_type": "code",
      "execution_count": null,
      "metadata": {
        "id": "6uXzm4mBaIHq"
      },
      "outputs": [],
      "source": [
        "# getting the predicted stock price of 2012-2016\n",
        "\n",
        "predicted_energy_consumption = model.predict(x_train)\n",
        "predicted_energy_consumption = mm.inverse_transform(predicted_energy_consumption)"
      ]
    },
    {
      "cell_type": "code",
      "execution_count": null,
      "metadata": {
        "colab": {
          "base_uri": "https://localhost:8080/",
          "height": 376
        },
        "id": "i76zfhK4arX9",
        "outputId": "741d3ec5-a540-4eae-addf-5823b4997145"
      },
      "outputs": [],
      "source": [
        "# visualizing the whole training data results\n",
        "\n",
        "plt.plot(training_data, color = 'red', label = 'Real Iran Elec. Power Consumption')\n",
        "plt.plot(predicted_energy_consumption, color = 'blue', label = 'Predicted Iran Elec. Power Consumption')\n",
        "plt.title('Elec. Power Prediction')\n",
        "plt.xlabel('Time')\n",
        "plt.ylabel('Iran Elec. Power Consumption')\n",
        "plt.legend()\n",
        "plt.show()"
      ]
    },
    {
      "cell_type": "code",
      "execution_count": null,
      "metadata": {
        "colab": {
          "base_uri": "https://localhost:8080/",
          "height": 36
        },
        "id": "Oni1qcQja270",
        "outputId": "4a849729-d6d9-438d-92a6-289cb8cf986f"
      },
      "outputs": [],
      "source": [
        "# Evaluating the RNN model\n",
        "\n",
        "import math\n",
        "\n",
        "from sklearn.metrics import mean_squared_error\n",
        "\n",
        "rmse = math.sqrt(mean_squared_error(real_energy_consumption, predicted_energy_consumption))\n",
        "\n",
        "print(rmse)"
      ]
    }
  ],
  "metadata": {
    "colab": {
      "collapsed_sections": [],
      "name": "Stock_Prediction.ipynb",
      "provenance": []
    },
    "kernelspec": {
      "display_name": "Python 3",
      "name": "python3"
    }
  },
  "nbformat": 4,
  "nbformat_minor": 0
}
